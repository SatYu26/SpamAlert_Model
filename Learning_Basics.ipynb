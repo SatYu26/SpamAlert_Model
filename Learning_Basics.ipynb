{
  "nbformat": 4,
  "nbformat_minor": 0,
  "metadata": {
    "kernelspec": {
      "display_name": "Python 3",
      "language": "python",
      "name": "python3"
    },
    "language_info": {
      "codemirror_mode": {
        "name": "ipython",
        "version": 3
      },
      "file_extension": ".py",
      "mimetype": "text/x-python",
      "name": "python",
      "nbconvert_exporter": "python",
      "pygments_lexer": "ipython3",
      "version": "3.8.0"
    },
    "colab": {
      "name": "NLP-101.ipynb",
      "provenance": [],
      "collapsed_sections": []
    }
  },
  "cells": [
    {
      "cell_type": "code",
      "metadata": {
        "id": "lnG9xKm5EhJZ"
      },
      "source": [
        "import nltk"
      ],
      "execution_count": 45,
      "outputs": []
    },
    {
      "cell_type": "code",
      "metadata": {
        "colab": {
          "base_uri": "https://localhost:8080/"
        },
        "id": "NB3KsQX-EhJk",
        "outputId": "1824ee58-0577-46e5-bd53-4c41960337a2"
      },
      "source": [
        "from nltk.corpus import brown\r\n",
        "nltk.download('brown')"
      ],
      "execution_count": 46,
      "outputs": [
        {
          "output_type": "stream",
          "text": [
            "[nltk_data] Downloading package brown to /root/nltk_data...\n",
            "[nltk_data]   Package brown is already up-to-date!\n"
          ],
          "name": "stdout"
        },
        {
          "output_type": "execute_result",
          "data": {
            "text/plain": [
              "True"
            ]
          },
          "metadata": {
            "tags": []
          },
          "execution_count": 46
        }
      ]
    },
    {
      "cell_type": "code",
      "metadata": {
        "colab": {
          "base_uri": "https://localhost:8080/"
        },
        "id": "xaFie71vEhJl",
        "outputId": "a6b1773c-861f-4f9d-c02a-57a7d6c3cde3"
      },
      "source": [
        "print(brown.categories())"
      ],
      "execution_count": 47,
      "outputs": [
        {
          "output_type": "stream",
          "text": [
            "['adventure', 'belles_lettres', 'editorial', 'fiction', 'government', 'hobbies', 'humor', 'learned', 'lore', 'mystery', 'news', 'religion', 'reviews', 'romance', 'science_fiction']\n"
          ],
          "name": "stdout"
        }
      ]
    },
    {
      "cell_type": "code",
      "metadata": {
        "id": "Wxg73P2KEhJm"
      },
      "source": [
        "data = brown.sents(categories=\"news\")"
      ],
      "execution_count": 48,
      "outputs": []
    },
    {
      "cell_type": "code",
      "metadata": {
        "colab": {
          "base_uri": "https://localhost:8080/"
        },
        "id": "BgLiOIiXEhJm",
        "outputId": "5878344d-6bf5-4b2f-c819-25f0451fa32e"
      },
      "source": [
        "print(' '.join(data[4]))"
      ],
      "execution_count": 49,
      "outputs": [
        {
          "output_type": "stream",
          "text": [
            "The jury said it did find that many of Georgia's registration and election laws `` are outmoded or inadequate and often ambiguous '' .\n"
          ],
          "name": "stdout"
        }
      ]
    },
    {
      "cell_type": "markdown",
      "metadata": {
        "id": "spVajRmuEhJn"
      },
      "source": [
        "# Tokenization"
      ]
    },
    {
      "cell_type": "code",
      "metadata": {
        "colab": {
          "base_uri": "https://localhost:8080/"
        },
        "id": "wdZaxRbMEhJn",
        "outputId": "09a02d4a-33e5-4aa6-8e5c-ac7e82180da3"
      },
      "source": [
        "from nltk.tokenize import sent_tokenize, word_tokenize\r\n",
        "nltk.download('punkt')"
      ],
      "execution_count": 50,
      "outputs": [
        {
          "output_type": "stream",
          "text": [
            "[nltk_data] Downloading package punkt to /root/nltk_data...\n",
            "[nltk_data]   Package punkt is already up-to-date!\n"
          ],
          "name": "stdout"
        },
        {
          "output_type": "execute_result",
          "data": {
            "text/plain": [
              "True"
            ]
          },
          "metadata": {
            "tags": []
          },
          "execution_count": 50
        }
      ]
    },
    {
      "cell_type": "code",
      "metadata": {
        "id": "bfANPebnEhJn"
      },
      "source": [
        "document = \"\"\"\n",
        "We are having fun at major league hacking local hack day build! \n",
        "feel free to join the discord channel. also share about the session on social media.\n",
        "\"\"\"\n",
        "\n",
        "sentence = \"send all the documents related to chapter 1,2,3,4 to abc@xyz.com\""
      ],
      "execution_count": 51,
      "outputs": []
    },
    {
      "cell_type": "code",
      "metadata": {
        "id": "87roNIl8EhJo"
      },
      "source": [
        "sents = sent_tokenize(document)"
      ],
      "execution_count": 52,
      "outputs": []
    },
    {
      "cell_type": "code",
      "metadata": {
        "id": "GkV_BnH9EhJo"
      },
      "source": [
        "words = word_tokenize?"
      ],
      "execution_count": 53,
      "outputs": []
    },
    {
      "cell_type": "code",
      "metadata": {
        "id": "zTWyt0EoEhJp"
      },
      "source": [
        "words = word_tokenize"
      ],
      "execution_count": 54,
      "outputs": []
    },
    {
      "cell_type": "markdown",
      "metadata": {
        "id": "2a3rQC75EhJq"
      },
      "source": [
        "words"
      ]
    },
    {
      "cell_type": "markdown",
      "metadata": {
        "id": "rEMP9JcdEhJr"
      },
      "source": [
        "# Stopward removal"
      ]
    },
    {
      "cell_type": "code",
      "metadata": {
        "colab": {
          "base_uri": "https://localhost:8080/"
        },
        "id": "9AQqBY-lEhJr",
        "outputId": "fb8669d7-cb23-449c-c7d1-abeb83fcb239"
      },
      "source": [
        "from nltk.corpus import stopwords\r\n",
        "nltk.download('stopwords')"
      ],
      "execution_count": 55,
      "outputs": [
        {
          "output_type": "stream",
          "text": [
            "[nltk_data] Downloading package stopwords to /root/nltk_data...\n",
            "[nltk_data]   Package stopwords is already up-to-date!\n"
          ],
          "name": "stdout"
        },
        {
          "output_type": "execute_result",
          "data": {
            "text/plain": [
              "True"
            ]
          },
          "metadata": {
            "tags": []
          },
          "execution_count": 55
        }
      ]
    },
    {
      "cell_type": "code",
      "metadata": {
        "id": "-1GKymC_EhJr"
      },
      "source": [
        "sw = set(stopwords.words(\"english\"))"
      ],
      "execution_count": 56,
      "outputs": []
    },
    {
      "cell_type": "code",
      "metadata": {
        "colab": {
          "base_uri": "https://localhost:8080/"
        },
        "id": "PQSnNkntEhJs",
        "outputId": "deca74f0-a7bf-4974-8a8c-0a0965ddf0e0"
      },
      "source": [
        "print(\"has\" in sw)"
      ],
      "execution_count": 57,
      "outputs": [
        {
          "output_type": "stream",
          "text": [
            "True\n"
          ],
          "name": "stdout"
        }
      ]
    },
    {
      "cell_type": "code",
      "metadata": {
        "colab": {
          "base_uri": "https://localhost:8080/"
        },
        "id": "e-gpCaGtEhJs",
        "outputId": "dcd8ee83-341e-4b02-8b2f-6dc832354a14"
      },
      "source": [
        "sentence = \"send all the documents related to chapter 1,2,3,4 to abc@xyz.com\".split()\n",
        "print(sentence)"
      ],
      "execution_count": 58,
      "outputs": [
        {
          "output_type": "stream",
          "text": [
            "['send', 'all', 'the', 'documents', 'related', 'to', 'chapter', '1,2,3,4', 'to', 'abc@xyz.com']\n"
          ],
          "name": "stdout"
        }
      ]
    },
    {
      "cell_type": "code",
      "metadata": {
        "id": "QOSik-ciEhJt"
      },
      "source": [
        "def remove_stopwords(text, stopwords):\n",
        "    useful_words = [word for word in text if word not in stopwords]\n",
        "    return useful_words"
      ],
      "execution_count": 59,
      "outputs": []
    },
    {
      "cell_type": "code",
      "metadata": {
        "colab": {
          "base_uri": "https://localhost:8080/"
        },
        "id": "f7fzn3ljEhJt",
        "outputId": "e648d152-6e83-424f-92ba-81a610d29233"
      },
      "source": [
        "remove_stopwords(sentence, sw)"
      ],
      "execution_count": 60,
      "outputs": [
        {
          "output_type": "execute_result",
          "data": {
            "text/plain": [
              "['send', 'documents', 'related', 'chapter', '1,2,3,4', 'abc@xyz.com']"
            ]
          },
          "metadata": {
            "tags": []
          },
          "execution_count": 60
        }
      ]
    },
    {
      "cell_type": "code",
      "metadata": {
        "id": "fssUI_ZnEhJu"
      },
      "source": [
        "sentence = \"send all the documents related to chapter 1,2,3,4 to abc@xyz.com\""
      ],
      "execution_count": 61,
      "outputs": []
    },
    {
      "cell_type": "code",
      "metadata": {
        "id": "uIOt504KEhJu"
      },
      "source": [
        "from nltk.tokenize import RegexpTokenizer"
      ],
      "execution_count": 62,
      "outputs": []
    },
    {
      "cell_type": "code",
      "metadata": {
        "colab": {
          "base_uri": "https://localhost:8080/"
        },
        "id": "Aa9OFviDEhJu",
        "outputId": "5b32a3ed-0c85-4733-ce9a-cf2d4e788f44"
      },
      "source": [
        "tokenizer = RegexpTokenizer('[a-zA-Z@.]+')\n",
        "useful_text = tokenizer.tokenize(sentence)\n",
        "print(useful_text)"
      ],
      "execution_count": 63,
      "outputs": [
        {
          "output_type": "stream",
          "text": [
            "['send', 'all', 'the', 'documents', 'related', 'to', 'chapter', 'to', 'abc@xyz.com']\n"
          ],
          "name": "stdout"
        }
      ]
    },
    {
      "cell_type": "markdown",
      "metadata": {
        "id": "rhIeTphPEhJv"
      },
      "source": [
        "# Stemming"
      ]
    },
    {
      "cell_type": "code",
      "metadata": {
        "id": "rLk088k7EhJv"
      },
      "source": [
        "document = \"\"\"\n",
        "I like this session and I liked all the sessions. I am liking everything. \n",
        "We are having fun at major league hacking local hack day build! \n",
        "feel free to join the discord channel. also share about the session on social media.\n",
        "\"\"\""
      ],
      "execution_count": 64,
      "outputs": []
    },
    {
      "cell_type": "code",
      "metadata": {
        "id": "pH_3R57AEhJv"
      },
      "source": [
        "from nltk.stem import PorterStemmer"
      ],
      "execution_count": 65,
      "outputs": []
    },
    {
      "cell_type": "code",
      "metadata": {
        "id": "e1TB5dnKEhJw"
      },
      "source": [
        "ps = PorterStemmer()"
      ],
      "execution_count": 66,
      "outputs": []
    },
    {
      "cell_type": "code",
      "metadata": {
        "colab": {
          "base_uri": "https://localhost:8080/",
          "height": 35
        },
        "id": "UdRNQK2BEhJw",
        "outputId": "6dc50d32-0801-4391-f23d-7d9c6347fa39"
      },
      "source": [
        "ps.stem('liking')"
      ],
      "execution_count": 67,
      "outputs": [
        {
          "output_type": "execute_result",
          "data": {
            "application/vnd.google.colaboratory.intrinsic+json": {
              "type": "string"
            },
            "text/plain": [
              "'like'"
            ]
          },
          "metadata": {
            "tags": []
          },
          "execution_count": 67
        }
      ]
    },
    {
      "cell_type": "code",
      "metadata": {
        "id": "eVZTsaTeEhJw"
      },
      "source": [
        "corpus = [\n",
        "    'Indian cricket team will win World Cup, says Capt. Virat Kohli. World cup will be held at Sri Lanka.',\n",
        "    'We will win next Lok Sabha Elections, says confident Indian PM',\n",
        "    'The nobel laurate won the hearts of the people',\n",
        "    'The movie Raazi is an exciting Indian Spy thriller based upon a real story'\n",
        "]"
      ],
      "execution_count": 68,
      "outputs": []
    },
    {
      "cell_type": "code",
      "metadata": {
        "id": "oaS5SkmrEhJw"
      },
      "source": [
        "from sklearn.feature_extraction.text import CountVectorizer"
      ],
      "execution_count": 69,
      "outputs": []
    },
    {
      "cell_type": "code",
      "metadata": {
        "id": "2Atdekr-EhJx"
      },
      "source": [
        "cv = CountVectorizer()"
      ],
      "execution_count": 70,
      "outputs": []
    },
    {
      "cell_type": "code",
      "metadata": {
        "id": "TY9vnG_4EhJy"
      },
      "source": [
        "vectorized_corpus = cv.fit_transform(corpus)"
      ],
      "execution_count": 71,
      "outputs": []
    },
    {
      "cell_type": "code",
      "metadata": {
        "id": "lbO8DSLwEhJy"
      },
      "source": [
        "vectorized_corpus = vectorized_corpus.toarray()\n"
      ],
      "execution_count": 72,
      "outputs": []
    },
    {
      "cell_type": "code",
      "metadata": {
        "colab": {
          "base_uri": "https://localhost:8080/"
        },
        "id": "sMXF2BNgEhJy",
        "outputId": "0e7dbc63-bcde-4118-801a-e5a14f496321"
      },
      "source": [
        "print(vectorized_corpus[3])"
      ],
      "execution_count": 73,
      "outputs": [
        {
          "output_type": "stream",
          "text": [
            "[1 0 1 0 0 0 0 0 0 1 0 0 1 1 0 0 0 0 1 0 0 0 0 0 1 1 0 0 1 0 1 0 1 1 1 0 0\n",
            " 0 0 0 0]\n"
          ],
          "name": "stdout"
        }
      ]
    },
    {
      "cell_type": "code",
      "metadata": {
        "colab": {
          "base_uri": "https://localhost:8080/"
        },
        "id": "VYk-TjCsEhJz",
        "outputId": "5969e7ee-1863-4763-a13a-48d94497a93e"
      },
      "source": [
        "print(cv.vocabulary_)"
      ],
      "execution_count": 74,
      "outputs": [
        {
          "output_type": "stream",
          "text": [
            "{'indian': 12, 'cricket': 6, 'team': 31, 'will': 37, 'win': 38, 'world': 40, 'cup': 7, 'says': 27, 'capt': 4, 'virat': 35, 'kohli': 14, 'be': 3, 'held': 11, 'at': 1, 'sri': 29, 'lanka': 15, 'we': 36, 'next': 19, 'lok': 17, 'sabha': 26, 'elections': 8, 'confident': 5, 'pm': 23, 'the': 32, 'nobel': 20, 'laurate': 16, 'won': 39, 'hearts': 10, 'of': 21, 'people': 22, 'movie': 18, 'raazi': 24, 'is': 13, 'an': 0, 'exciting': 9, 'spy': 28, 'thriller': 33, 'based': 2, 'upon': 34, 'real': 25, 'story': 30}\n"
          ],
          "name": "stdout"
        }
      ]
    },
    {
      "cell_type": "markdown",
      "metadata": {
        "id": "a1__mjGpEhJ0"
      },
      "source": [
        "# vectorisation with stopword removal"
      ]
    },
    {
      "cell_type": "code",
      "metadata": {
        "id": "PNuDqrUDEhJ0"
      },
      "source": [
        "def myTokenizer(document):\n",
        "    words = tokenizer.tokenize(document.lower()) # this is nltk one\n",
        "    # remove stopwards\n",
        "    words = remove_stopwords(words, sw)\n",
        "    return words"
      ],
      "execution_count": 75,
      "outputs": []
    },
    {
      "cell_type": "code",
      "metadata": {
        "colab": {
          "base_uri": "https://localhost:8080/"
        },
        "id": "LfMVrHxnEhJ0",
        "outputId": "6eaf87f0-6f9b-4813-9a78-985016976136"
      },
      "source": [
        "myTokenizer('this is some function')"
      ],
      "execution_count": 76,
      "outputs": [
        {
          "output_type": "execute_result",
          "data": {
            "text/plain": [
              "['function']"
            ]
          },
          "metadata": {
            "tags": []
          },
          "execution_count": 76
        }
      ]
    },
    {
      "cell_type": "code",
      "metadata": {
        "id": "CCto11wLEhJ1"
      },
      "source": [
        "cv = CountVectorizer(tokenizer=myTokenizer)"
      ],
      "execution_count": 77,
      "outputs": []
    },
    {
      "cell_type": "code",
      "metadata": {
        "id": "gpnS2Hm0EhJ1"
      },
      "source": [
        "vectorizedCorpus = cv.fit_transform(corpus).toarray()"
      ],
      "execution_count": 78,
      "outputs": []
    },
    {
      "cell_type": "code",
      "metadata": {
        "colab": {
          "base_uri": "https://localhost:8080/"
        },
        "id": "dWCsjF6MEhJ1",
        "outputId": "e58798b6-f274-4c45-a4b1-2831b6f55f78"
      },
      "source": [
        "print(len(vectorizedCorpus[0]))"
      ],
      "execution_count": 79,
      "outputs": [
        {
          "output_type": "stream",
          "text": [
            "32\n"
          ],
          "name": "stdout"
        }
      ]
    },
    {
      "cell_type": "code",
      "metadata": {
        "colab": {
          "base_uri": "https://localhost:8080/"
        },
        "id": "rsi9os22EhJ2",
        "outputId": "e2974306-bdb8-42f0-9551-3530057e9e30"
      },
      "source": [
        "print(cv.vocabulary_)"
      ],
      "execution_count": 80,
      "outputs": [
        {
          "output_type": "stream",
          "text": [
            "{'indian': 9, 'cricket': 3, 'team': 26, 'win': 30, 'world': 31, 'cup': 4, 'says': 22, 'capt.': 1, 'virat': 29, 'kohli.': 10, 'held': 8, 'sri': 24, 'lanka.': 11, 'next': 15, 'lok': 13, 'sabha': 21, 'elections': 5, 'confident': 2, 'pm': 18, 'nobel': 16, 'laurate': 12, 'hearts': 7, 'people': 17, 'movie': 14, 'raazi': 19, 'exciting': 6, 'spy': 23, 'thriller': 27, 'based': 0, 'upon': 28, 'real': 20, 'story': 25}\n"
          ],
          "name": "stdout"
        }
      ]
    },
    {
      "cell_type": "code",
      "metadata": {
        "id": "VoAtSo3rEhJ2"
      },
      "source": [
        ""
      ],
      "execution_count": 80,
      "outputs": []
    }
  ]
}